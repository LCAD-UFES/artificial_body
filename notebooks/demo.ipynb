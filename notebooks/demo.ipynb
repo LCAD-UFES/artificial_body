{
 "cells": [
  {
   "cell_type": "code",
   "execution_count": 1,
   "metadata": {},
   "outputs": [],
   "source": [
    "import numpy as np\n",
    "import pydot\n",
    "from IPython.display import display, HTML, SVG\n",
    "\n",
    "from pydrake.all import (\n",
    "    AddMultibodyPlantSceneGraph, DiagramBuilder, \n",
    "    FindResourceOrThrow, GenerateHtml, InverseDynamicsController, \n",
    "    MultibodyPlant, Parser, Simulator, MeshcatVisualizerCpp)\n",
    "from manipulation import running_as_notebook\n",
    "from manipulation.meshcat_cpp_utils import (\n",
    "  StartMeshcat, MeshcatJointSliders)"
   ]
  },
  {
   "cell_type": "code",
   "execution_count": 2,
   "metadata": {},
   "outputs": [
    {
     "name": "stderr",
     "output_type": "stream",
     "text": [
      "INFO:drake:Meshcat listening for connections at http://localhost:7000\n"
     ]
    }
   ],
   "source": [
    "# Start the visualizer.\n",
    "meshcat = StartMeshcat()"
   ]
  },
  {
   "cell_type": "code",
   "execution_count": 3,
   "metadata": {},
   "outputs": [
    {
     "data": {
      "text/plain": [
       "array([-10., -10., -10., -10., -10., -10.])"
      ]
     },
     "execution_count": 3,
     "metadata": {},
     "output_type": "execute_result"
    }
   ],
   "source": [
    "import numpy as np\n",
    "\n",
    "def joint_slider_demo(): \n",
    "  builder = DiagramBuilder()\n",
    "\n",
    "  plant, scene_graph = AddMultibodyPlantSceneGraph(builder, time_step=1e-4)\n",
    "    \n",
    "  parser = Parser(plant, scene_graph)\n",
    "  parser.package_map().PopulateFromEnvironment(\"ROS_PACKAGE_PATH\")\n",
    "  model = parser.AddModelFromFile(\"/home/avelino/catkin_ws/src/open_manipulator/open_manipulator_description/urdf/open_manipulator.urdf\")\n",
    "\n",
    "  plant.WeldFrames(plant.world_frame(), plant.get_body(\n",
    "      plant.GetBodyIndices(model)[0]).body_frame())\n",
    "  plant.Finalize()\n",
    "\n",
    "  meshcat.Delete()\n",
    "  meshcat.DeleteAddedControls()\n",
    "  visualizer = MeshcatVisualizerCpp.AddToBuilder(builder, scene_graph, meshcat)\n",
    "  diagram = builder.Build()\n",
    "  context = diagram.CreateDefaultContext()\n",
    "  \n",
    "  num = plant.num_positions()\n",
    "  x = np.array(-10.)\n",
    "  assert len(x.shape) <= 1\n",
    "  return np.array(x) * np.ones(num)\n",
    "        \n",
    "  sliders = MeshcatJointSliders(meshcat, plant, visualizer, context)\n",
    "  sliders.Run()\n",
    "\n",
    "joint_slider_demo()\n"
   ]
  },
  {
   "cell_type": "code",
   "execution_count": 4,
   "metadata": {},
   "outputs": [],
   "source": [
    "meshcat.Delete()\n",
    "meshcat.DeleteAddedControls()"
   ]
  },
  {
   "cell_type": "code",
   "execution_count": 5,
   "metadata": {},
   "outputs": [],
   "source": [
    "builder = DiagramBuilder()\n",
    "\n",
    "# Adds both MultibodyPlant and the SceneGraph, and wires them together.\n",
    "plant, scene_graph = AddMultibodyPlantSceneGraph(builder, time_step=1e-4)\n",
    "\n",
    "parser = Parser(plant, scene_graph)\n",
    "parser.package_map().PopulateFromEnvironment(\"ROS_PACKAGE_PATH\")\n",
    "model = parser.AddModelFromFile(\"/home/avelino/catkin_ws/src/open_manipulator/open_manipulator_description/urdf/open_manipulator.urdf\")\n",
    "\n",
    "plant.WeldFrames(plant.world_frame(), plant.GetFrameByName(\"link1\"))\n",
    "plant.Finalize()\n",
    "\n",
    "# Adds the MeshcatVisualizer and wires it to the SceneGraph.\n",
    "visualizer = MeshcatVisualizerCpp.AddToBuilder(builder, scene_graph, meshcat)"
   ]
  },
  {
   "cell_type": "code",
   "execution_count": 6,
   "metadata": {},
   "outputs": [
    {
     "name": "stdout",
     "output_type": "stream",
     "text": [
      "6\n",
      "6\n"
     ]
    }
   ],
   "source": [
    "print(plant.num_positions())\n",
    "print(plant.num_actuators())"
   ]
  },
  {
   "cell_type": "code",
   "execution_count": 7,
   "metadata": {},
   "outputs": [],
   "source": [
    "Kp = np.full(6, 100)\n",
    "Ki = 2 * np.sqrt(Kp)\n",
    "Kd = np.full(6, 1)\n",
    "\n",
    "robotis_controller = builder.AddSystem(InverseDynamicsController(plant, Kp, Ki, Kd, False))\n",
    "robotis_controller.set_name(\"robotis_controller\");\n",
    "builder.Connect(plant.get_state_output_port(model),\n",
    "                robotis_controller.get_input_port_estimated_state())\n",
    "builder.Connect(robotis_controller.get_output_port_control(),\n",
    "                plant.get_actuation_input_port())\n",
    "\n"
   ]
  },
  {
   "cell_type": "code",
   "execution_count": 8,
   "metadata": {},
   "outputs": [],
   "source": [
    "diagram = builder.Build()\n",
    "context = diagram.CreateDefaultContext()"
   ]
  },
  {
   "cell_type": "code",
   "execution_count": 9,
   "metadata": {},
   "outputs": [],
   "source": [
    "plant_context = plant.GetMyMutableContextFromRoot(context)\n",
    "#plant.get_actuation_input_port().FixValue(plant_context, np.zeros(6));"
   ]
  },
  {
   "cell_type": "code",
   "execution_count": 10,
   "metadata": {},
   "outputs": [
    {
     "name": "stdout",
     "output_type": "stream",
     "text": [
      "::_ Context (of a Diagram)\n",
      "---------------------------\n",
      "6 total continuous states\n",
      "12 total discrete states in 1 groups\n",
      "192 total numeric parameters in 29 groups\n",
      "18 total abstract parameters\n",
      "\n",
      "::_::plant Context\n",
      "-------------------\n",
      "Time: 0\n",
      "States:\n",
      "  1 discrete state groups with\n",
      "     12 states\n",
      "       -1.57   0.1     0  -1.2     0   1.6     0     0     0     0     0     0\n",
      "\n",
      "Parameters:\n",
      "  28 numeric parameter groups with\n",
      "     1 parameters\n",
      "       0\n",
      "     1 parameters\n",
      "       1\n",
      "     1 parameters\n",
      "       0\n",
      "     1 parameters\n",
      "       1\n",
      "     1 parameters\n",
      "       0\n",
      "     1 parameters\n",
      "       1\n",
      "     1 parameters\n",
      "       0\n",
      "     1 parameters\n",
      "       1\n",
      "     1 parameters\n",
      "       0\n",
      "     1 parameters\n",
      "       1\n",
      "     1 parameters\n",
      "       0\n",
      "     1 parameters\n",
      "       1\n",
      "     10 parameters\n",
      "       nan nan nan nan nan nan nan nan nan nan\n",
      "     10 parameters\n",
      "            0.07912  0.000308762            0 -0.000121765  0.000158069  0.000276884  0.000243616            0 -2.21913e-06            0\n",
      "     10 parameters\n",
      "          0.0984068 -0.000301849  0.000540437    0.0474335   0.00260125   0.00258221  0.000191938  2.23844e-10  1.04181e-05 -2.53451e-05\n",
      "     10 parameters\n",
      "           0.138509    0.0103084  0.000377434     0.101702    0.0127299    0.0129252  0.000542091 -4.59784e-06  -0.00132639 -4.97334e-05\n",
      "     10 parameters\n",
      "           0.132746    0.0909096  0.000389298  0.000224133  0.000231126    0.0100899    0.0101597 -4.50064e-05 -2.24003e-05  -1.7402e-10\n",
      "     10 parameters\n",
      "           0.143276    0.0442068    3.684e-07   0.00891422  0.000643905   0.00256401   0.00260422 -1.62858e-08 -0.000401159   -3.284e-09\n",
      "     10 parameters\n",
      "           0.017         0         0         0 0.0588235 0.0588235 0.0588235         0         0         0\n",
      "     10 parameters\n",
      "           0.017         0         0         0 0.0588235 0.0588235 0.0588235         0         0         0\n",
      "     10 parameters\n",
      "       0.001     0     0     0 0.001 0.001 0.001     0     0     0\n",
      "     12 parameters\n",
      "           1     0    -0     0     1     0     0     0     1 0.012     0 0.017\n",
      "     12 parameters\n",
      "            1      0     -0      0      1      0      0      0      1      0      0 0.0595\n",
      "     12 parameters\n",
      "           1     0    -0     0     1     0     0     0     1 0.024     0 0.128\n",
      "     12 parameters\n",
      "           1     0    -0     0     1     0     0     0     1 0.124     0     0\n",
      "     12 parameters\n",
      "            1      0     -0      0      1      0      0      0      1 0.0817  0.021      0\n",
      "     12 parameters\n",
      "            1      0     -0      0      1      0      0      0      1 0.0817 -0.021      0\n",
      "     12 parameters\n",
      "           1     0    -0     0     1     0     0     0     1 0.126     0     0\n",
      "  17 abstract parameters\n",
      "\n",
      "::_::scene_graph Context\n",
      "-------------------------\n",
      "Time: 0\n",
      "Parameters:\n",
      "  1 abstract parameters\n",
      "\n",
      "::_::robotis_controller Context (of a Diagram)\n",
      "-----------------------------------------------\n",
      "6 total continuous states\n",
      "6 total numeric parameters in 1 groups\n",
      "\n",
      "::_::robotis_controller::drake/systems/controllers/PidController@00000000038e6ca0 Context\n",
      "------------------------------------------------------------------------------------------\n",
      "Time: 0\n",
      "States:\n",
      "  6 continuous states\n",
      "    0 0 0 0 0 0\n",
      "\n",
      "\n",
      "::_::robotis_controller::drake/systems/ConstantVectorSource@00000000038d4f20 Context\n",
      "-------------------------------------------------------------------------------------\n",
      "Time: 0\n",
      "Parameters:\n",
      "  1 numeric parameter groups with\n",
      "     6 parameters\n",
      "       0 0 0 0 0 0\n",
      "\n"
     ]
    }
   ],
   "source": [
    "q0 = np.array([-1.57, 0.1, 0, -1.2, 0, 1.6])\n",
    "x0 = np.hstack((q0, 0*q0))\n",
    "plant.SetPositions(plant_context, q0)\n",
    "robotis_controller.GetInputPort('desired_state').FixValue(\n",
    "    robotis_controller.GetMyMutableContextFromRoot(context), x0)\n",
    "print(context)"
   ]
  },
  {
   "cell_type": "code",
   "execution_count": 11,
   "metadata": {},
   "outputs": [],
   "source": [
    "simulator = Simulator(diagram, context)"
   ]
  },
  {
   "cell_type": "code",
   "execution_count": 12,
   "metadata": {},
   "outputs": [
    {
     "data": {
      "text/plain": [
       "<pydrake.systems.analysis.SimulatorStatus at 0x7fc9b43d22f0>"
      ]
     },
     "execution_count": 12,
     "metadata": {},
     "output_type": "execute_result"
    }
   ],
   "source": [
    "simulator.set_target_realtime_rate(1.0)\n",
    "simulator.AdvanceTo(5.0)"
   ]
  },
  {
   "cell_type": "code",
   "execution_count": null,
   "metadata": {},
   "outputs": [],
   "source": []
  }
 ],
 "metadata": {
  "interpreter": {
   "hash": "31f2aee4e71d21fbe5cf8b01ff0e069b9275f58929596ceb00d14d90e3e16cd6"
  },
  "kernelspec": {
   "display_name": "Python 3 (ipykernel)",
   "language": "python",
   "name": "python3"
  },
  "language_info": {
   "codemirror_mode": {
    "name": "ipython",
    "version": 3
   },
   "file_extension": ".py",
   "mimetype": "text/x-python",
   "name": "python",
   "nbconvert_exporter": "python",
   "pygments_lexer": "ipython3",
   "version": "3.8.10"
  }
 },
 "nbformat": 4,
 "nbformat_minor": 2
}
